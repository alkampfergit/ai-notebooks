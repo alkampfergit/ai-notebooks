{
 "cells": [
  {
   "cell_type": "code",
   "execution_count": 1,
   "id": "0c60316d",
   "metadata": {},
   "outputs": [],
   "source": [
    "# Add parent directory to sys.path so we can import wikipedia_downloader.py\n",
    "import sys\n",
    "import os\n",
    "sys.path.append(os.path.abspath(os.path.join(os.getcwd(), '..')))\n",
    "sys.path.append(os.path.abspath(os.getcwd()))"
   ]
  },
  {
   "cell_type": "code",
   "execution_count": 2,
   "id": "1c757c58",
   "metadata": {},
   "outputs": [
    {
     "name": "stdout",
     "output_type": "stream",
     "text": [
      "Wikipedia page downloaded successfully!\n",
      "\n",
      "First 500 characters of the downloaded content:\n",
      "Intelligence of machines\n",
      "\"AI\" redirects here. For other uses, see AI (disambiguation) and Artificial intelligence (disambiguation).\n",
      "**Artificial intelligence** (**AI**) is the capability of computational systems to perform tasks typically associated with human intelligence, such as learning, reasoning, problem-solving, perception, and decision-making. It is a field of research in computer science that develops and studies methods and software that enable machines to perceive their environment an...\n"
     ]
    }
   ],
   "source": [
    "# Import the Wikipedia downloader module\n",
    "from wikipedia_downloader import download_wikipedia_to_markdown, get_page_title_from_url\n",
    "\n",
    "# Example usage: Download a Wikipedia page\n",
    "wikipedia_url = \"https://en.wikipedia.org/wiki/Artificial_intelligence\"\n",
    "output_file = \"downloads/artificial_intelligence.md\"\n",
    "\n",
    "# Download the page\n",
    "success = download_wikipedia_to_markdown(wikipedia_url, output_file)\n",
    "\n",
    "if success:\n",
    "    print(f\"Wikipedia page downloaded successfully!\")\n",
    "    \n",
    "    # Read and display first 500 characters of the downloaded content\n",
    "    with open(output_file, 'r', encoding='utf-8') as f:\n",
    "        content = f.read()\n",
    "        print(f\"\\nFirst 500 characters of the downloaded content:\")\n",
    "        print(content[:500] + \"...\" if len(content) > 500 else content)\n",
    "else:\n",
    "    print(\"Failed to download Wikipedia page\")"
   ]
  }
 ],
 "metadata": {
  "kernelspec": {
   "display_name": "ainotebooks",
   "language": "python",
   "name": "ainotebooks"
  },
  "language_info": {
   "codemirror_mode": {
    "name": "ipython",
    "version": 3
   },
   "file_extension": ".py",
   "mimetype": "text/x-python",
   "name": "python",
   "nbconvert_exporter": "python",
   "pygments_lexer": "ipython3",
   "version": "3.12.4"
  }
 },
 "nbformat": 4,
 "nbformat_minor": 5
}
