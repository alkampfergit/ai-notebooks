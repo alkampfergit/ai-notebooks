{
 "cells": [
  {
   "cell_type": "code",
   "execution_count": 42,
   "id": "0c60316d",
   "metadata": {},
   "outputs": [],
   "source": [
    "# Add parent directory to sys.path so we can import wikipedia_downloader.py\n",
    "import sys\n",
    "import os\n",
    "sys.path.append(os.path.abspath(os.path.join(os.getcwd(), '..')))\n",
    "sys.path.append(os.path.abspath(os.getcwd()))"
   ]
  },
  {
   "cell_type": "code",
   "execution_count": 43,
   "id": "1c757c58",
   "metadata": {},
   "outputs": [
    {
     "name": "stdout",
     "output_type": "stream",
     "text": [
      "File 'downloads/artificial_intelligence.md' already exists. Skipping download.\n"
     ]
    }
   ],
   "source": [
    "# Import the Wikipedia downloader module\n",
    "from wikipedia_downloader import download_wikipedia_to_markdown, get_page_title_from_url\n",
    "\n",
    "# Example usage: Download a Wikipedia page\n",
    "wikipedia_url = \"https://en.wikipedia.org/wiki/Artificial_intelligence\"\n",
    "output_file = \"downloads/artificial_intelligence.md\"\n",
    "\n",
    "import os\n",
    "\n",
    "if not os.path.exists(output_file):\n",
    "    # Download the page\n",
    "    print (f\"Downloading Wikipedia page from {wikipedia_url} to {output_file}...\")\n",
    "    success = download_wikipedia_to_markdown(wikipedia_url, output_file)\n",
    "    if success:\n",
    "        print(f\"Wikipedia page downloaded successfully!\")\n",
    "        \n",
    "        # Read and display first 500 characters of the downloaded content\n",
    "        with open(output_file, 'r', encoding='utf-8') as f:\n",
    "            content = f.read()\n",
    "            print(f\"\\nFirst 500 characters of the downloaded content:\")\n",
    "            print(content[:500] + \"...\" if len(content) > 500 else content)\n",
    "    else:\n",
    "        print(\"Failed to download Wikipedia page\")\n",
    "else:\n",
    "    print(f\"File '{output_file}' already exists. Skipping download.\")\n",
    "    success = True\n"
   ]
  },
  {
   "cell_type": "code",
   "execution_count": 44,
   "id": "b984be5c",
   "metadata": {},
   "outputs": [],
   "source": [
    "# if not exists create a Now after we downloaded the file generate another one reduced that does not break markdown section delimited by # starting line but it is no longer than 300 rows\n",
    "\n",
    "# generate name of reduced file appending _reduced to the original file name\n",
    "reduced_file_name = os.path.splitext(output_file)[0] + \"_reduced.md\"\n",
    "if not os.path.exists(reduced_file_name):\n",
    "    print(f\"Generating reduced file: {reduced_file_name}...\")\n",
    "    with open(output_file, 'r', encoding='utf-8') as f:\n",
    "        lines = f.readlines()\n",
    "    \n",
    "    print (f\"Total lines in the original file: {len(lines)}\")\n",
    "    # Reduce to 300 lines, ensuring we don't break markdown sections\n",
    "    reduced_lines = []\n",
    "    count = 0\n",
    "    for line in lines:\n",
    "        count += 1\n",
    "        if line.startswith('#') and count >= 300:\n",
    "            break\n",
    "        reduced_lines.append(line)\n",
    "        \n",
    "    with open(reduced_file_name, 'w', encoding='utf-8') as f:\n",
    "        f.writelines(reduced_lines)\n",
    "    \n",
    "    print(f\"Reduced file created successfully: {reduced_file_name}\")\n"
   ]
  },
  {
   "cell_type": "markdown",
   "id": "593ade06",
   "metadata": {},
   "source": [
    "# Semantic Chunking with LlamaIndex\n",
    "\n",
    "This notebook demonstrates how to use LlamaIndex's semantic chunking to intelligently split PDF documents based on semantic similarity rather than fixed chunk sizes.\n",
    "\n",
    "Semantic chunking adaptively picks breakpoints between sentences using embedding similarity, ensuring chunks contain semantically related content."
   ]
  },
  {
   "cell_type": "code",
   "execution_count": 45,
   "id": "79859b42",
   "metadata": {},
   "outputs": [],
   "source": [
    "# Import required libraries\n",
    "import os\n",
    "from llama_index.core import SimpleDirectoryReader, VectorStoreIndex\n",
    "from llama_index.core.node_parser import SentenceSplitter, SemanticSplitterNodeParser\n",
    "from llama_index.embeddings.openai import OpenAIEmbedding"
   ]
  },
  {
   "cell_type": "code",
   "execution_count": 46,
   "id": "b741b887",
   "metadata": {},
   "outputs": [],
   "source": [
    "from dotenv import load_dotenv\n",
    "import os\n",
    "from llama_index.llms.azure_openai import AzureOpenAI\n",
    "from llama_index.embeddings.azure_openai import AzureOpenAIEmbedding\n",
    "\n",
    "load_dotenv()\n",
    "\n",
    "api_key = os.environ.get('OPENAI_API_KEY')\n",
    "azure_endpoint = os.environ.get('OPENAI_API_BASE')\n",
    "deployment_name = os.environ.get('LLAMAINDEX_DEPLOYMENT_NAME')\n",
    "api_version = \"2024-02-15-preview\""
   ]
  },
  {
   "cell_type": "code",
   "execution_count": 47,
   "id": "3ab01675",
   "metadata": {},
   "outputs": [
    {
     "name": "stdout",
     "output_type": "stream",
     "text": [
      "Loaded 1 document(s)\n",
      "Document content preview: Intelligence of machines\n",
      "\n",
      "\"AI\" redirects here. For other uses, see AI (disambiguation) and Artificial intelligence (disambiguation).\n",
      "\n",
      "**Artificial intelligence** (**AI**) is the capability of computational systems to perform tasks typically associated with human intelligence, such as learning, reasoning, problem-solving, perception, and decision-making. It is a field of research in computer science that develops and studies methods and software that enable machines to perceive their environment and use learning and intelligence to take actions that maximize their chances of achieving defined goals.\n",
      "\n",
      "High-profile applications of AI include advanced web search engines (e.g., Google Search); recommendation systems (used by YouTube, Amazon, and Netflix); virtual assistants (e.g., Google Assistant, Siri, and Alexa); autonomous vehicles (e.g., Waymo); generative and creative tools (e.g., language models and AI art); and superhuman play and analysis in strategy games (e.g., chess and Go...\n"
     ]
    }
   ],
   "source": [
    "from llama_index.core import Document\n",
    "\n",
    "# Load with default behavior (one doc per page)\n",
    "documents = SimpleDirectoryReader(input_files=[reduced_file_name]).load_data()\n",
    "\n",
    "print(f\"Loaded {len(documents)} document(s)\")\n",
    "print(f\"Document content preview: {documents[0].text[:1000]}...\")"
   ]
  },
  {
   "cell_type": "markdown",
   "id": "edbd2e8d",
   "metadata": {},
   "source": [
    "### Key points:\n",
    "\n",
    "No built-in max token/character parameter: The SemanticSplitterNodeParser does not currently expose a parameter to set a hard maximum chunk size in tokens or characters.\n",
    "\n",
    "Known limitation: This is a recognized issue in the LlamaIndex community, and users have reported that chunks exceeding model limits can cause errors during embedding or inference.\n",
    "\n",
    "Workarounds:\n",
    "\n",
    "- Custom subclassing: You can subclass SemanticSplitterNodeParser to add a post-processing step that checks chunk sizes and further splits any that exceed your desired limit. Example approaches and code snippets for this workaround are provided by the community.\n",
    "\n",
    "- Safety net pattern: One common pattern is to use a secondary, simpler splitter (e.g., SentenceSplitter) as a fallback to break up oversized chunks after semantic splitting"
   ]
  },
  {
   "cell_type": "code",
   "execution_count": 48,
   "id": "3797d492",
   "metadata": {},
   "outputs": [],
   "source": [
    "embed_model = AzureOpenAIEmbedding(\n",
    "    model=\"text-embedding-3-small\",\n",
    "    deployment_name=\"text-embedding-3-small\",\n",
    "    api_key=api_key,\n",
    "    azure_endpoint=azure_endpoint,\n",
    "    api_version=api_version,\n",
    ")\n",
    "\n",
    "# Configure semantic splitter\n",
    "splitter = SemanticSplitterNodeParser(\n",
    "    buffer_size=1,  # Number of sentences to group together when evaluating semantic similarity\n",
    "    breakpoint_percentile_threshold=90,  # Percentile threshold for determining breakpoints\n",
    "    embed_model=embed_model\n",
    ")\n",
    "\n",
    "# Create baseline splitter for comparison\n",
    "base_splitter = SentenceSplitter(chunk_size=512)"
   ]
  },
  {
   "cell_type": "code",
   "execution_count": 49,
   "id": "0a3d3a00",
   "metadata": {},
   "outputs": [
    {
     "name": "stdout",
     "output_type": "stream",
     "text": [
      "Generating semantic chunks...\n"
     ]
    },
    {
     "name": "stderr",
     "output_type": "stream",
     "text": [
      "Generating embeddings: 100%|██████████| 293/293 [00:11<00:00, 25.97it/s]\n",
      "Parsing nodes: 100%|██████████| 1/1 [00:11<00:00, 11.37s/it]\n"
     ]
    },
    {
     "name": "stdout",
     "output_type": "stream",
     "text": [
      "Generating baseline chunks...\n"
     ]
    },
    {
     "name": "stderr",
     "output_type": "stream",
     "text": [
      "Parsing nodes: 100%|██████████| 1/1 [00:00<00:00, 76.75it/s]"
     ]
    },
    {
     "name": "stdout",
     "output_type": "stream",
     "text": [
      "Semantic chunking produced 31 chunks\n",
      "Baseline chunking produced 29 chunks\n"
     ]
    },
    {
     "name": "stderr",
     "output_type": "stream",
     "text": [
      "\n"
     ]
    }
   ],
   "source": [
    "# Generate semantic chunks\n",
    "print(\"Generating semantic chunks...\")\n",
    "semantic_nodes = splitter.get_nodes_from_documents(documents, show_progress=True)\n",
    "\n",
    "print(\"Generating baseline chunks...\")\n",
    "baseline_nodes = base_splitter.get_nodes_from_documents(documents, show_progress=True)\n",
    "\n",
    "print(f\"Semantic chunking produced {len(semantic_nodes)} chunks\")\n",
    "print(f\"Baseline chunking produced {len(baseline_nodes)} chunks\")"
   ]
  },
  {
   "cell_type": "markdown",
   "id": "16db57cc",
   "metadata": {},
   "source": [
    "## Inspecting Semantic Chunks\n",
    "\n",
    "Let's examine the first few chunks created by semantic chunking to see how they group semantically related content."
   ]
  },
  {
   "cell_type": "code",
   "execution_count": 50,
   "id": "5ed1af4b",
   "metadata": {},
   "outputs": [
    {
     "name": "stdout",
     "output_type": "stream",
     "text": [
      "\n",
      "=== Semantic Chunk 1 ===\n",
      "Length: 3070 characters\n",
      "Content preview: Intelligence of machines\n",
      "\n",
      "\"AI\" redirects here. For other uses, see AI (disambiguation) and Artificial intelligence (disambiguation).\n",
      "\n",
      "**Artificial intelligence** (**AI**) is the capability of computational systems to perform tasks typically associated with human intelligence, such as learning, reasoning, problem-solving, perception, and decision-making. It is a field of research in computer science that develops and studies methods and software that enable machines to perceive their environment and use learning and intelligence to take actions that maximize their chances of achieving defined goals.\n",
      "\n",
      "High-profile applications of AI include advanced web search engines (e.g., Google Search); recommendation systems (used by YouTube, Amazon, and Netflix); virtual assistants (e.g., Google Assistant, Siri, and Alexa); autonomous vehicles (e.g., Waymo); generative and creative tools (e.g., language models and AI art); and superhuman play and analysis in strategy games (e.g., chess and Go...\n",
      "--------------------------------------------------\n",
      "\n",
      "=== Semantic Chunk 2 ===\n",
      "Length: 892 characters\n",
      "Content preview: These consist of particular traits or capabilities that researchers expect an intelligent system to display. The traits described below have received the most attention and cover the scope of AI research.[a]\n",
      "\n",
      "### Reasoning and problem-solving\n",
      "\n",
      "Early researchers developed algorithms that imitated step-by-step reasoning that humans use when they solve puzzles or make logical deductions. By the late 1980s and 1990s, methods were developed for dealing with uncertain or incomplete information, employing concepts from probability and economics.\n",
      "\n",
      "Many of these algorithms are insufficient for solving large reasoning problems because they experience a \"combinatorial explosion\": They become exponentially slower as the problems grow. Even humans rarely use the step-by-step deduction that early AI research could model. They solve most of their problems using fast, intuitive judgments. ...\n",
      "--------------------------------------------------\n",
      "\n",
      "=== Semantic Chunk 3 ===\n",
      "Length: 3745 characters\n",
      "Content preview: Accurate and efficient reasoning is an unsolved problem. \n",
      "\n",
      "### Knowledge representation\n",
      "\n",
      "An ontology represents knowledge as a set of concepts within a domain and the relationships between those concepts.\n",
      "\n",
      "Knowledge representation and knowledge engineering allow AI programs to answer questions intelligently and make deductions about real-world facts. Formal knowledge representations are used in content-based indexing and retrieval, scene interpretation, clinical decision support, knowledge discovery (mining \"interesting\" and actionable inferences from large databases), and other areas.\n",
      "\n",
      "A knowledge base is a body of knowledge represented in a form that can be used by a program. An ontology is the set of objects, relations, concepts, and properties used by a particular domain of knowledge. Knowledge bases need to represent things such as objects, properties, categories, and relations between objects; situations, events, states, and time; causes and effects; knowledge about knowl...\n",
      "--------------------------------------------------\n"
     ]
    }
   ],
   "source": [
    "# Display first few semantic chunks\n",
    "for i, node in enumerate(semantic_nodes[:3]):\n",
    "    print(f\"\\n=== Semantic Chunk {i+1} ===\")\n",
    "    print(f\"Length: {len(node.get_content())} characters\")\n",
    "    print(f\"Content preview: {node.get_content()[:1000]}...\")\n",
    "    print(\"-\" * 50)"
   ]
  },
  {
   "cell_type": "markdown",
   "id": "c107ebfa",
   "metadata": {},
   "source": [
    "## Comparing with Baseline Chunking\n",
    "\n",
    "Now let's compare the semantic chunks with baseline fixed-size chunks to see the difference in content organization."
   ]
  },
  {
   "cell_type": "code",
   "execution_count": 51,
   "id": "3030722e",
   "metadata": {},
   "outputs": [
    {
     "name": "stdout",
     "output_type": "stream",
     "text": [
      "\n",
      "=== Baseline Chunk 1 ===\n",
      "Length: 2552 characters\n",
      "Content preview: Intelligence of machines\n",
      "\n",
      "\"AI\" redirects here. For other uses, see AI (disambiguation) and Artificial intelligence (disambiguation).\n",
      "\n",
      "**Artificial intelligence** (**AI**) is the capability of computational systems to perform tasks typically associated with human intelligence, such as learning, r...\n",
      "--------------------------------------------------\n",
      "\n",
      "=== Baseline Chunk 2 ===\n",
      "Length: 2649 characters\n",
      "Content preview: [a] To reach these goals, AI researchers have adapted and integrated a wide range of techniques, including search and mathematical optimization, formal logic, artificial neural networks, and methods based on statistics, operations research, and economics.[b] AI also draws upon psychology, linguistic...\n",
      "--------------------------------------------------\n",
      "\n",
      "=== Baseline Chunk 3 ===\n",
      "Length: 2696 characters\n",
      "Content preview: These consist of particular traits or capabilities that researchers expect an intelligent system to display. The traits described below have received the most attention and cover the scope of AI research.[a]\n",
      "\n",
      "### Reasoning and problem-solving\n",
      "\n",
      "Early researchers developed algorithms that imitated...\n",
      "--------------------------------------------------\n"
     ]
    }
   ],
   "source": [
    "# Display first few baseline chunks for comparison\n",
    "for i, node in enumerate(baseline_nodes[:3]):\n",
    "    print(f\"\\n=== Baseline Chunk {i+1} ===\")\n",
    "    print(f\"Length: {len(node.get_content())} characters\")\n",
    "    print(f\"Content preview: {node.get_content()[:300]}...\")\n",
    "    print(\"-\" * 50)"
   ]
  },
  {
   "cell_type": "code",
   "execution_count": 52,
   "id": "d4aeccb0",
   "metadata": {},
   "outputs": [
    {
     "name": "stdout",
     "output_type": "stream",
     "text": [
      "Chunk Size Statistics:\n",
      "Semantic chunks - Min: 59, Max: 6767, Avg: 1464.9\n",
      "Baseline chunks - Min: 1987, Max: 2752, Avg: 2476.2\n"
     ]
    }
   ],
   "source": [
    "# Analyze chunk size distribution\n",
    "semantic_sizes = [len(node.get_content()) for node in semantic_nodes]\n",
    "baseline_sizes = [len(node.get_content()) for node in baseline_nodes]\n",
    "\n",
    "print(\"Chunk Size Statistics:\")\n",
    "print(f\"Semantic chunks - Min: {min(semantic_sizes)}, Max: {max(semantic_sizes)}, Avg: {sum(semantic_sizes)/len(semantic_sizes):.1f}\")\n",
    "print(f\"Baseline chunks - Min: {min(baseline_sizes)}, Max: {max(baseline_sizes)}, Avg: {sum(baseline_sizes)/len(baseline_sizes):.1f}\")"
   ]
  },
  {
   "cell_type": "code",
   "execution_count": 53,
   "id": "da11f520",
   "metadata": {},
   "outputs": [
    {
     "data": {
      "image/png": "[encoded data removed]",
      "text/plain": [
       "<Figure size 1200x600 with 1 Axes>"
      ]
     },
     "metadata": {},
     "output_type": "display_data"
    }
   ],
   "source": [
    "# Now plot the distribution of chunk sizes\n",
    "import matplotlib.pyplot as plt\n",
    "plt.figure(figsize=(12, 6))\n",
    "plt.hist(semantic_sizes, bins=50, alpha=0.5, label='Semantic Chunks', color='blue')\n",
    "plt.hist(baseline_sizes, bins=50, alpha=0.5, label='Baseline Chunks', color='orange')\n",
    "plt.title('Chunk Size Distribution')\n",
    "plt.xlabel('Chunk Size (characters)')\n",
    "plt.ylabel('Frequency')\n",
    "plt.legend()\n",
    "plt.show()\n"
   ]
  },
  {
   "cell_type": "code",
   "execution_count": 55,
   "id": "2efa8bc9",
   "metadata": {},
   "outputs": [
    {
     "name": "stdout",
     "output_type": "stream",
     "text": [
      "\n",
      "=== Shortest 10 Semantic Chunks ===\n",
      "\n",
      "=== Shortest Semantic Chunk 1 ===\n",
      "Length: 59 characters\n",
      "Content preview: Computer vision is the ability to analyze visual input.\n",
      "\n",
      "...\n",
      "--------------------------------------------------\n",
      "\n",
      "=== Shortest Semantic Chunk 2 ===\n",
      "Length: 75 characters\n",
      "Content preview: They can be fine-tuned based on chosen examples using supervised learning. ...\n",
      "--------------------------------------------------\n",
      "\n",
      "=== Shortest Semantic Chunk 3 ===\n",
      "Length: 84 characters\n",
      "Content preview: Classifiers are functions that use pattern matching to determine the closest match. ...\n",
      "--------------------------------------------------\n",
      "\n",
      "=== Shortest Semantic Chunk 4 ===\n",
      "Length: 177 characters\n",
      "Content preview: \"Heuristics\" or \"rules of thumb\" can help prioritize choices that are more likely to reach a goal.\n",
      "\n",
      "Adversarial search is used for game-playing programs, such as chess or Go. ...\n",
      "--------------------------------------------------\n",
      "\n",
      "=== Shortest Semantic Chunk 5 ===\n",
      "Length: 368 characters\n",
      "Content preview: The policy could be calculated (e.g., by iteration), be heuristic, or it can be learned.\n",
      "\n",
      "Game theory describes the rational behavior of multiple interacting agents and is used in AI programs that make decisions that involve other agents.\n",
      "\n",
      "### Learning\n",
      "\n",
      "Machine learning is the study of program...\n",
      "--------------------------------------------------\n",
      "\n",
      "=== Shortest Semantic Chunk 6 ===\n",
      "Length: 383 characters\n",
      "Content preview: The Three Mile Island facility will be renamed the Crane Clean Energy Center after Chris Crane, a nuclear proponent and former CEO of Exelon who was responsible for Exelon's spinoff of Constellation.\n",
      "\n",
      "After the last approval in September 2023, Taiwan suspended the approval of data centers north of...\n",
      "--------------------------------------------------\n",
      "\n",
      "=== Shortest Semantic Chunk 7 ===\n",
      "Length: 419 characters\n",
      "Content preview: The field includes speech recognition, image classification, facial recognition, object recognition, object tracking, and robotic perception.\n",
      "\n",
      "### Social intelligence\n",
      "\n",
      "Kismet, a robot head which was made in the 1990s; it is a machine that can recognize and simulate emotions.\n",
      "\n",
      "Affective computi...\n",
      "--------------------------------------------------\n",
      "\n",
      "=== Shortest Semantic Chunk 8 ===\n",
      "Length: 444 characters\n",
      "Content preview: Expectation–maximization clustering of Old Faithful eruption data starts from a random guess but then successfully converges on an accurate clustering of the two physically distinct modes of eruption.\n",
      "\n",
      "### Classifiers and statistical learning methods\n",
      "\n",
      "The simplest AI applications can be divided ...\n",
      "--------------------------------------------------\n",
      "\n",
      "=== Shortest Semantic Chunk 9 ===\n",
      "Length: 450 characters\n",
      "Content preview: It searches through a tree of possible moves and countermoves, looking for a winning position.\n",
      "\n",
      "#### Local search\n",
      "\n",
      "Illustration of gradient descent for 3 different starting points; two parameters (represented by the plan coordinates) are adjusted in order to minimize the loss function (the heigh...\n",
      "--------------------------------------------------\n",
      "\n",
      "=== Shortest Semantic Chunk 10 ===\n",
      "Length: 513 characters\n",
      "Content preview: In 2025, a report prepared by the International Energy Agency estimated the greenhouse gas emissions from the energy consumption of AI at 180 million tons. By 2035, these emissions could rise to 300-500 million tonnes depending on what measures will be taken. This is below 1.5% of the energy sector ...\n",
      "--------------------------------------------------\n"
     ]
    }
   ],
   "source": [
    "# Now print the shortest 10 semantic chunks\n",
    "shortest_semantic_chunks = sorted(semantic_nodes, key=lambda x: len(x.get_content()))[:10]\n",
    "print(\"\\n=== Shortest 10 Semantic Chunks ===\")\n",
    "for i, node in enumerate(shortest_semantic_chunks):\n",
    "    print(f\"\\n=== Shortest Semantic Chunk {i+1} ===\")\n",
    "    print(f\"Length: {len(node.get_content())} characters\")\n",
    "    print(f\"Content preview: {node.get_content()[:300]}...\")\n",
    "    print(\"-\" * 50)"
   ]
  },
  {
   "cell_type": "code",
   "execution_count": 57,
   "id": "9f70718d",
   "metadata": {},
   "outputs": [
    {
     "name": "stdout",
     "output_type": "stream",
     "text": [
      "\n",
      "=== Longest Semantic Chunk ===\n",
      "Length: 6767 characters\n",
      "Content: The reason that deep learning performs so well in so many applications is not known as of 2021. The sudden success of deep learning in 2012–2015 did not occur because of some new discovery or theoretical breakthrough (deep neural networks and backpropagation had been described by many people, as far back as the 1950s)[i] but because of two factors: the incredible increase in computer power (including the hundred-fold increase in speed by switching to GPUs) and the availability of vast amounts of training data, especially the giant curated datasets used for benchmark testing, such as ImageNet.[j]\n",
      "\n",
      "### GPT\n",
      "\n",
      "Generative pre-trained transformers (GPT) are large language models (LLMs) that generate text based on the semantic relationships between words in sentences. Text-based GPT models are pre-trained on a large corpus of text that can be from the Internet. The pretraining consists of predicting the next token (a token being usually a word, subword, or punctuation). Throughout this pretraining, GPT models accumulate knowledge about the world and can then generate human-like text by repeatedly predicting the next token. Typically, a subsequent training phase makes the model more truthful, useful, and harmless, usually with a technique called reinforcement learning from human feedback (RLHF). Current GPT models are prone to generating falsehoods called \"hallucinations\". These can be reduced with RLHF and quality data, but the problem has been getting worse for reasoning systems. Such systems are used in chatbots, which allow people to ask a question or request a task in simple text.\n",
      "\n",
      "Current models and services include ChatGPT, Claude, Gemini, Copilot, and Meta AI. Multimodal GPT models can process different types of data (modalities) such as images, videos, sound, and text.\n",
      "\n",
      "### Hardware and software\n",
      "\n",
      "Main articles: Programming languages for artificial intelligence and Hardware for artificial intelligence\n",
      "\n",
      "In the late 2010s, graphics processing units (GPUs) that were increasingly designed with AI-specific enhancements and used with specialized TensorFlow software had replaced previously used central processing unit (CPUs) as the dominant means for large-scale (commercial and academic) machine learning models' training. Specialized programming languages such as Prolog were used in early AI research, but general-purpose programming languages like Python have become predominant.\n",
      "\n",
      "The transistor density in integrated circuits has been observed to roughly double every 18 months—a trend known as Moore's law, named after the Intel co-founder Gordon Moore, who first identified it. Improvements in GPUs have been even faster, a trend sometimes called Huang's law, named after Nvidia co-founder and CEO Jensen Huang. \n",
      "\n",
      "## Applications\n",
      "\n",
      "Main article: Applications of artificial intelligence\n",
      "\n",
      "AI and machine learning technology is used in most of the essential applications of the 2020s, including: search engines (such as Google Search), targeting online advertisements, recommendation systems (offered by Netflix, YouTube or Amazon), driving internet traffic, targeted advertising (AdSense, Facebook), virtual assistants (such as Siri or Alexa), autonomous vehicles (including drones, ADAS and self-driving cars), automatic language translation (Microsoft Translator, Google Translate), facial recognition (Apple's FaceID or Microsoft's DeepFace and Google's FaceNet) and image labeling (used by Facebook, Apple's Photos and TikTok). The deployment of AI may be overseen by a chief automation officer (CAO). \n",
      "\n",
      "### Health and medicine\n",
      "\n",
      "Main article: Artificial intelligence in healthcare\n",
      "\n",
      "The application of AI in medicine and medical research has the potential to increase patient care and quality of life. Through the lens of the Hippocratic Oath, medical professionals are ethically compelled to use AI, if applications can more accurately diagnose and treat patients.\n",
      "\n",
      "For medical research, AI is an important tool for processing and integrating big data. This is particularly important for organoid and tissue engineering development which use microscopy imaging as a key technique in fabrication. It has been suggested that AI can overcome discrepancies in funding allocated to different fields of research. New AI tools can deepen the understanding of biomedically relevant pathways. For example, AlphaFold 2 (2021) demonstrated the ability to approximate, in hours rather than months, the 3D structure of a protein. In 2023, it was reported that AI-guided drug discovery helped find a class of antibiotics capable of killing two different types of drug-resistant bacteria. In 2024, researchers used machine learning to accelerate the search for Parkinson's disease drug treatments. Their aim was to identify compounds that block the clumping, or aggregation, of alpha-synuclein (the protein that characterises Parkinson's disease). They were able to speed up the initial screening process ten-fold and reduce the cost by a thousand-fold.\n",
      "\n",
      "### Games\n",
      "\n",
      "Main article: Artificial intelligence in video games\n",
      "\n",
      "Game playing programs have been used since the 1950s to demonstrate and test AI's most advanced techniques. Deep Blue became the first computer chess-playing system to beat a reigning world chess champion, Garry Kasparov, on 11 May 1997. In 2011, in a _Jeopardy!_ quiz show exhibition match, IBM's question answering system, Watson, defeated the two greatest _Jeopardy!_ champions, Brad Rutter and Ken Jennings, by a significant margin. In March 2016, AlphaGo won 4 out of 5 games of Go in a match with Go champion Lee Sedol, becoming the first computer Go-playing system to beat a professional Go player without handicaps. Then, in 2017, it defeated Ke Jie, who was the best Go player in the world. Other programs handle imperfect-information games, such as the poker-playing program Pluribus. DeepMind developed increasingly generalistic reinforcement learning models, such as with MuZero, which could be trained to play chess, Go, or Atari games. In 2019, DeepMind's AlphaStar achieved grandmaster level in StarCraft II, a particularly challenging real-time strategy game that involves incomplete knowledge of what happens on the map. In 2021, an AI agent competed in a PlayStation Gran Turismo competition, winning against four of the world's best Gran Turismo drivers using deep reinforcement learning. In 2024, Google DeepMind introduced SIMA, a type of AI capable of autonomously playing nine previously unseen open-world video games by observing screen output, as well as executing short, specific tasks in response to natural language instructions.\n",
      "\n",
      "### Mathematics\n",
      "\n",
      "Large language models, such as GPT-4, Gemini, Claude, Llama or Mistral, are increasingly used in mathematics. ...\n"
     ]
    }
   ],
   "source": [
    "# now print the longest chunk\n",
    "longest_semantic_chunk = max(semantic_nodes, key=lambda x: len(x.get_content()))\n",
    "print(\"\\n=== Longest Semantic Chunk ===\")\n",
    "print(f\"Length: {len(longest_semantic_chunk.get_content())} characters\")\n",
    "print(f\"Content: {longest_semantic_chunk.get_content()}...\")"
   ]
  },
  {
   "cell_type": "markdown",
   "id": "da913240",
   "metadata": {},
   "source": [
    "## Setting up Query Engines\n",
    "\n",
    "We'll create query engines for both chunking methods to test their effectiveness in retrieving relevant information."
   ]
  },
  {
   "cell_type": "code",
   "execution_count": 32,
   "id": "292fcdd2",
   "metadata": {},
   "outputs": [
    {
     "name": "stdout",
     "output_type": "stream",
     "text": [
      "Query engines created successfully!\n"
     ]
    }
   ],
   "source": [
    "from llama_index.core import Settings\n",
    "from llama_index.core.response.notebook_utils import display_source_node\n",
    "\n",
    "# Configure both embedding model and LLM in global settings\n",
    "Settings.embed_model = embed_model\n",
    "\n",
    "llm = AzureOpenAI(\n",
    "    model=\"gpt-4o-mini\",\n",
    "    deployment_name=deployment_name,\n",
    "    api_key=api_key,\n",
    "    azure_endpoint=azure_endpoint,\n",
    "    api_version=api_version,\n",
    "    engine=deployment_name\n",
    ")\n",
    "\n",
    "Settings.llm = llm\n",
    "\n",
    "# Create vector indexes and query engines\n",
    "semantic_index = VectorStoreIndex(semantic_nodes)\n",
    "semantic_query_engine = semantic_index.as_query_engine()\n",
    "\n",
    "baseline_index = VectorStoreIndex(baseline_nodes)\n",
    "baseline_query_engine = baseline_index.as_query_engine()\n",
    "\n",
    "print(\"Query engines created successfully!\")"
   ]
  },
  {
   "cell_type": "markdown",
   "id": "086bb569",
   "metadata": {},
   "source": [
    "## Testing Queries\n",
    "\n",
    "Let's test both chunking approaches with sample queries to see how they perform."
   ]
  },
  {
   "cell_type": "code",
   "execution_count": 33,
   "id": "071ecdd4",
   "metadata": {},
   "outputs": [
    {
     "name": "stdout",
     "output_type": "stream",
     "text": [
      "=== Semantic Chunking Response ===\n",
      "Yes, artificial intelligence can be used for harmful purposes. The development and application of AI technologies can lead to unintended consequences and ethical concerns, prompting discussions about regulatory policies to ensure the safety and benefits of the technology.\n",
      "\n",
      "==================================================\n",
      "=== Baseline Chunking Response ===\n",
      "Yes, artificial intelligence can be used for harmful purposes. It has the potential to facilitate cybercrime, deceive or manipulate individuals through fake news or deepfakes, and raise ethical concerns related to privacy and surveillance. Additionally, the use of generative AI can lead to mass job displacement and may violate intellectual property laws.\n"
     ]
    }
   ],
   "source": [
    "test_query = \"Does Artificial intelligence can be used for bad thing?\"\n",
    "\n",
    "print(\"=== Semantic Chunking Response ===\")\n",
    "semantic_response = semantic_query_engine.query(test_query)\n",
    "print(semantic_response)\n",
    "\n",
    "print(\"\\n\" + \"=\"*50)\n",
    "print(\"=== Baseline Chunking Response ===\")\n",
    "baseline_response = baseline_query_engine.query(test_query)\n",
    "print(baseline_response)"
   ]
  },
  {
   "cell_type": "code",
   "execution_count": 34,
   "id": "93ac05dd",
   "metadata": {},
   "outputs": [
    {
     "name": "stdout",
     "output_type": "stream",
     "text": [
      "=== Source Nodes (Semantic Chunking) ===\n",
      "\n",
      "Node 1 (Similarity: 0.6035):\n"
     ]
    },
    {
     "data": {
      "text/markdown": [
       "**Node ID:** 694a0060-b587-4ebb-a131-3cc1c34243a0<br>**Similarity:** 0.6034519404054668<br>**Text:** Intelligence of machines\r\n",
       "\r\n",
       "\"AI\" redirects here. For other uses, see AI (disambiguation) and Artificial intelligence (disambiguation).\r\n",
       "\r\n",
       "**Artificial intelligence** (**AI**) is the capability of computational systems to perform tasks typically associated with human intelligence, such as learning, reasoning, problem-solving, perception, and decision-making. It is a field of research in computer science that develops and studies methods and software that enable machines to perceive their envir...<br>"
      ],
      "text/plain": [
       "<IPython.core.display.Markdown object>"
      ]
     },
     "metadata": {},
     "output_type": "display_data"
    },
    {
     "name": "stdout",
     "output_type": "stream",
     "text": [
      "\n",
      "Node 2 (Similarity: 0.5629):\n"
     ]
    },
    {
     "data": {
      "text/markdown": [
       "**Node ID:** 5b49408f-9a3c-4321-a2d7-84f4fbf9c677<br>**Similarity:** 0.5628768771568523<br>**Text:** The field includes speech recognition, image classification, facial recognition, object recognition, object tracking, and robotic perception.\r\n",
       "\r\n",
       "### Social intelligence\r\n",
       "\r\n",
       "Kismet, a robot head which was made in the 1990s; it is a machine that can recognize and simulate emotions.\r\n",
       "\r\n",
       "Affective computing is a field that comprises systems that recognize, interpret, process, or simulate human feeling, emotion, and mood. For example, some virtual assistants are programmed to speak conversationally ...<br>"
      ],
      "text/plain": [
       "<IPython.core.display.Markdown object>"
      ]
     },
     "metadata": {},
     "output_type": "display_data"
    }
   ],
   "source": [
    "# Display source nodes for semantic chunking response\n",
    "print(\"=== Source Nodes (Semantic Chunking) ===\")\n",
    "for i, node in enumerate(semantic_response.source_nodes):\n",
    "    print(f\"\\nNode {i+1} (Similarity: {node.score:.4f}):\")\n",
    "    display_source_node(node, source_length=500)"
   ]
  },
  {
   "cell_type": "code",
   "execution_count": 35,
   "id": "45026f78",
   "metadata": {},
   "outputs": [
    {
     "name": "stdout",
     "output_type": "stream",
     "text": [
      "=== Source Nodes (Baseline Chunking) ===\n",
      "\n",
      "Node 1 (Similarity: 0.6610):\n"
     ]
    },
    {
     "data": {
      "text/markdown": [
       "**Node ID:** 203c1e6c-dc99-428a-9944-10c4bdc039f9<br>**Similarity:** 0.6610065897119561<br>**Text:** Artificial intelligence is used in astronomy to analyze increasing amounts of available data and applications, mainly for \"classification, regression, clustering, forecasting, generation, discovery, and the development of new scientific insights.\" For example, it is used for discovering exoplanets, forecasting solar activity, and distinguishing between signals and instrumental effects in gravitational wave astronomy. Additionally, it could be used for activities in space, such as space explor...<br>"
      ],
      "text/plain": [
       "<IPython.core.display.Markdown object>"
      ]
     },
     "metadata": {},
     "output_type": "display_data"
    },
    {
     "name": "stdout",
     "output_type": "stream",
     "text": [
      "\n",
      "Node 2 (Similarity: 0.6254):\n"
     ]
    },
    {
     "data": {
      "text/markdown": [
       "**Node ID:** 24ac80aa-5a70-4bd8-bb44-3f1e6e602623<br>**Similarity:** 0.6254404146101963<br>**Text:** Technology companies developing generative AI include OpenAI, Anthropic, Meta AI, Microsoft, Google, DeepSeek, and Baidu.\r\n",
       "\r\n",
       "Generative AI has raised many ethical questions as it can be used for cybercrime, or to deceive or manipulate people through fake news or deepfakes. Even if used ethically, it may lead to mass replacement of human jobs. The tools themselves have been criticized as violating intellectual property laws, since they are trained on copyrighted works.\r\n",
       "\r\n",
       "### Agents\r\n",
       "\r\n",
       "Main ar...<br>"
      ],
      "text/plain": [
       "<IPython.core.display.Markdown object>"
      ]
     },
     "metadata": {},
     "output_type": "display_data"
    }
   ],
   "source": [
    "# Display source nodes for baseline chunking response\n",
    "print(\"=== Source Nodes (Baseline Chunking) ===\")\n",
    "for i, node in enumerate(baseline_response.source_nodes):\n",
    "    print(f\"\\nNode {i+1} (Similarity: {node.score:.4f}):\")\n",
    "    display_source_node(node, source_length=500)"
   ]
  },
  {
   "cell_type": "markdown",
   "id": "addb13d2",
   "metadata": {},
   "source": [
    "## Advanced Configuration\n",
    "\n",
    "You can fine-tune the semantic splitter parameters for better results:\n",
    "\n",
    "- `buffer_size`: Number of sentences to group when evaluating similarity\n",
    "- `breakpoint_percentile_threshold`: Higher values create larger, more cohesive chunks\n",
    "- `embed_model`: Different embedding models may produce different chunking results"
   ]
  },
  {
   "cell_type": "code",
   "execution_count": null,
   "id": "9ad50e8d",
   "metadata": {},
   "outputs": [],
   "source": [
    "# Example of fine-tuning semantic splitter parameters\n",
    "fine_tuned_splitter = SemanticSplitterNodeParser(\n",
    "    buffer_size=2,  # Group 2 sentences at a time\n",
    "    breakpoint_percentile_threshold=90,  # Lower threshold for more granular chunks\n",
    "    embed_model=embed_model\n",
    ")\n",
    "\n",
    "# Generate chunks with fine-tuned parameters\n",
    "fine_tuned_nodes = fine_tuned_splitter.get_nodes_from_documents(documents)\n",
    "\n",
    "print(f\"Fine-tuned semantic chunking produced {len(fine_tuned_nodes)} chunks\")\n",
    "print(f\"Original semantic chunking produced {len(semantic_nodes)} chunks\")\n",
    "print(f\"Baseline chunking produced {len(baseline_nodes)} chunks\")"
   ]
  },
  {
   "cell_type": "markdown",
   "id": "1dd51ec4",
   "metadata": {},
   "source": [
    "## Summary\n",
    "\n",
    "Semantic chunking offers several advantages over fixed-size chunking:\n",
    "\n",
    "1. **Content Coherence**: Chunks contain semantically related sentences\n",
    "2. **Adaptive Size**: Chunk sizes vary based on content structure\n",
    "3. **Better Retrieval**: More relevant chunks for specific queries\n",
    "4. **Context Preservation**: Related information stays together\n",
    "\n",
    "Use semantic chunking when you need more intelligent document segmentation for RAG applications."
   ]
  }
 ],
 "metadata": {
  "kernelspec": {
   "display_name": "ainotebooks",
   "language": "python",
   "name": "ainotebooks"
  },
  "language_info": {
   "codemirror_mode": {
    "name": "ipython",
    "version": 3
   },
   "file_extension": ".py",
   "mimetype": "text/x-python",
   "name": "python",
   "nbconvert_exporter": "python",
   "pygments_lexer": "ipython3",
   "version": "3.12.4"
  }
 },
 "nbformat": 4,
 "nbformat_minor": 5
}
